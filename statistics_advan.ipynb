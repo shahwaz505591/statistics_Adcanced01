{
 "cells": [
  {
   "cell_type": "markdown",
   "id": "45c2f617-8122-4ad4-bb4e-3891d00392c6",
   "metadata": {},
   "source": [
    "Q1: Probability Density Function (PDF).\n",
    "Ans:\n",
    "\n",
    "The Probability Density Function (PDF) is a function that describes the relative likelihood of a continuous random variable taking on a specific value or falling within a range of values. Unlike the Probability Mass Function (PMF) for discrete random variables, the PDF doesn't provide exact probabilities but instead indicates the probability density at a particular point along the continuous distribution."
   ]
  },
  {
   "cell_type": "markdown",
   "id": "a05e6160-2a38-4b09-859b-62ef87e3e9d5",
   "metadata": {},
   "source": [
    "Q2: Types of Probability Distributions.\n",
    "Ans:\n",
    "\n",
    "There are various types of probability distributions, including:\n",
    "Normal Distribution\n",
    "Binomial Distribution\n",
    "Poisson Distribution\n",
    "Exponential Distribution\n",
    "Uniform Distribution\n",
    "Bernoulli Distribution\n",
    "Geometric Distribution\n",
    "Hypergeometric Distribution\n",
    "Multinomial Distribution\n",
    "Negative Binomial Distribution"
   ]
  },
  {
   "cell_type": "markdown",
   "id": "8d180dc5-cf46-4da0-bc82-2982b534cdb4",
   "metadata": {},
   "source": [
    "Q3: Python Function to Calculate PDF of Normal Distribution.\n",
    "Ans:\n",
    "    import numpy as np\n",
    "import scipy.stats as stats\n",
    "\n",
    "def normal_pdf(x, mean, std_dev):\n",
    "    pdf_value = stats.norm.pdf(x, loc=mean, scale=std_dev)\n",
    "    return pdf_value\n",
    "\n",
    "# Example usage:\n",
    "mean = 0\n",
    "std_dev = 1\n",
    "x_value = 1.5\n",
    "pdf = normal_pdf(x_value, mean, std_dev)\n",
    "print(f'PDF at x = {x_value}: {pdf}')\n"
   ]
  },
  {
   "cell_type": "markdown",
   "id": "abf61ab1-4bea-4f62-8916-b56d00e13aa7",
   "metadata": {},
   "source": [
    "Q4: Properties of Binomial Distribution.\n",
    "Ans:\n",
    "\n",
    "The Binomial distribution is characterized by:\n",
    "Two possible outcomes: success (S) and failure (F) for each trial.\n",
    "A fixed number of trials (n).\n",
    "The probability of success (p) remains constant across all trials.\n",
    "Each trial is independent of others.\n",
    "Examples: Events suitable for the Binomial distribution include:\n",
    "Coin flips (success = heads, failure = tails).\n",
    "Pass/fail in an exam (success = pass, failure = fail)."
   ]
  },
  {
   "cell_type": "markdown",
   "id": "30473a8b-d933-4fbb-9a94-13b9139f2081",
   "metadata": {},
   "source": [
    "Q5: Generate and Plot Random Sample from Binomial Distribution.\n",
    "Ans:\n",
    "    import numpy as np\n",
    "import matplotlib.pyplot as plt\n",
    "\n",
    "# Generate a random sample of size 1000 from a Binomial distribution\n",
    "sample = np.random.binomial(n=1, p=0.4, size=1000)\n",
    "\n",
    "# Plot a histogram of the results\n",
    "plt.hist(sample, bins=2, density=True, alpha=0.6, color='b')\n",
    "plt.title('Histogram of Binomial Distribution')\n",
    "plt.xlabel('Outcome')\n",
    "plt.ylabel('Probability Density')\n",
    "plt.show()\n"
   ]
  },
  {
   "cell_type": "markdown",
   "id": "0dd6705e-09d7-4ab7-8438-947d58541975",
   "metadata": {},
   "source": [
    "Q6: Python Function to Calculate CDF of Poisson Distribution.\n",
    "Ans:\n",
    "    import numpy as np\n",
    "import scipy.stats as stats\n",
    "\n",
    "def poisson_cdf(x, mean):\n",
    "    cdf_value = stats.poisson.cdf(x, mu=mean)\n",
    "    return cdf_value\n",
    "\n",
    "# Example usage:\n",
    "mean = 5\n",
    "x_value = 3\n",
    "cdf = poisson_cdf(x_value, mean)\n",
    "print(f'CDF at x = {x_value}: {cdf}')\n"
   ]
  },
  {
   "cell_type": "markdown",
   "id": "c6d5bbaa-4e56-444c-9663-b4db67dcddef",
   "metadata": {},
   "source": [
    "Q7: Difference Between Binomial and Poisson Distribution.\n",
    "Ans:\n",
    "\n",
    "Binomial Distribution: It models the number of successes in a fixed number of independent trials with two possible outcomes (success and failure). It has parameters n (number of trials) and p (probability of success in each trial).\n",
    "Poisson Distribution: It models the number of events that occur in a fixed interval of time or space. It is used when the events are rare but occur independently with a known average rate (mean)."
   ]
  }
 ],
 "metadata": {
  "kernelspec": {
   "display_name": "Python 3 (ipykernel)",
   "language": "python",
   "name": "python3"
  },
  "language_info": {
   "codemirror_mode": {
    "name": "ipython",
    "version": 3
   },
   "file_extension": ".py",
   "mimetype": "text/x-python",
   "name": "python",
   "nbconvert_exporter": "python",
   "pygments_lexer": "ipython3",
   "version": "3.10.8"
  }
 },
 "nbformat": 4,
 "nbformat_minor": 5
}
